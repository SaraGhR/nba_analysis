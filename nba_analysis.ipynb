{
  "cells": [
    {
      "cell_type": "markdown",
      "id": "d333515a",
      "metadata": {
        "id": "d333515a"
      },
      "source": [
        "<h1 align=center style=\"line-height:200%;font-family:vazir;color:#0099cc\">\n",
        "<font face=\"vazir\" color=\"#0099cc\">\n",
        "مرحوم کوبی\n",
        "</font>\n",
        "</h1>"
      ]
    },
    {
      "cell_type": "code",
      "source": [
        "#!pip install -r requirements_2.txt"
      ],
      "metadata": {
        "id": "1CsIZs1lmD2v"
      },
      "id": "1CsIZs1lmD2v",
      "execution_count": null,
      "outputs": []
    },
    {
      "cell_type": "code",
      "execution_count": 2,
      "id": "99450f9e",
      "metadata": {
        "id": "99450f9e"
      },
      "outputs": [],
      "source": [
        "import numpy as np\n",
        "import pandas as pd "
      ]
    },
    {
      "cell_type": "code",
      "execution_count": 17,
      "id": "7dcb9e87",
      "metadata": {
        "colab": {
          "base_uri": "https://localhost:8080/",
          "height": 424
        },
        "id": "7dcb9e87",
        "outputId": "15f7d6a5-8cb1-44cb-f9d8-f8d6efeb353b"
      },
      "outputs": [
        {
          "output_type": "execute_result",
          "data": {
            "text/plain": [
              "                 name  gp   min   pts  fgm   fga    fg  3p_made  3pa    3p  \\\n",
              "0         James Young  31  10.7   3.4  1.2   3.3  35.3      0.5  2.1  25.8   \n",
              "1    Michael Anderson  65  18.5   7.4  2.9   5.8  50.1      0.0  0.1   0.0   \n",
              "2         Kobe Bryant  71  15.5   7.6  2.5   5.9  41.7      0.7  1.9  37.5   \n",
              "3      Darrin Hancock  46   9.2   3.3  1.5   2.6  56.2      0.0  0.1  33.3   \n",
              "4         Brent Price  68  12.6   3.9  1.5   4.1  35.8      0.1  0.7  16.7   \n",
              "..                ...  ..   ...   ...  ...   ...   ...      ...  ...   ...   \n",
              "933      Terry Dehere  64  11.9   5.3  2.0   5.3  37.7      0.4  0.9  40.4   \n",
              "934   Jordan Hamilton  26   9.9   4.4  1.8   4.3  43.2      0.7  1.8  36.2   \n",
              "935         David Lee  67  16.9   5.1  2.0   3.4  59.6      0.0  0.0   0.0   \n",
              "936       Travis Mays  64  33.5  14.3  4.6  11.3  40.6      1.1  3.1  36.5   \n",
              "937        Ron Harper  82  37.4  22.9  9.0  19.7  45.5      0.2  1.1  21.3   \n",
              "\n",
              "     ...  fta    ft  oreb  dreb  reb  ast  stl  blk  tov  target_5yrs  \n",
              "0    ...  0.9  55.2   0.3   1.1  1.4  0.4  0.3  0.1  0.2            0  \n",
              "1    ...  2.7  57.1   1.8   2.7  4.5  1.0  1.0  0.3  1.2            0  \n",
              "2    ...  2.3  81.9   0.7   1.2  1.9  1.3  0.7  0.3  1.6            1  \n",
              "3    ...  0.8  41.0   0.3   0.8  1.2  0.7  0.4  0.1  0.7            0  \n",
              "4    ...  1.0  79.4   0.4   1.1  1.5  2.3  0.8  0.0  1.3            1  \n",
              "..   ...  ...   ...   ...   ...  ...  ...  ...  ...  ...          ...  \n",
              "933  ...  1.3  75.3   0.4   0.7  1.1  1.2  0.4  0.1  0.9            1  \n",
              "934  ...  0.2  40.0   0.4   2.0  2.4  0.8  0.1  0.1  0.6            1  \n",
              "935  ...  1.8  57.7   1.6   2.9  4.5  0.6  0.5  0.3  0.8            0  \n",
              "936  ...  5.2  77.0   0.8   1.9  2.8  4.0  1.3  0.2  2.5            0  \n",
              "937  ...  6.9  68.4   2.1   2.7  4.8  4.8  2.5  1.0  4.2            1  \n",
              "\n",
              "[938 rows x 21 columns]"
            ],
            "text/html": [
              "\n",
              "  <div id=\"df-1910773b-a639-4667-bbf3-3f40e78f5de4\">\n",
              "    <div class=\"colab-df-container\">\n",
              "      <div>\n",
              "<style scoped>\n",
              "    .dataframe tbody tr th:only-of-type {\n",
              "        vertical-align: middle;\n",
              "    }\n",
              "\n",
              "    .dataframe tbody tr th {\n",
              "        vertical-align: top;\n",
              "    }\n",
              "\n",
              "    .dataframe thead th {\n",
              "        text-align: right;\n",
              "    }\n",
              "</style>\n",
              "<table border=\"1\" class=\"dataframe\">\n",
              "  <thead>\n",
              "    <tr style=\"text-align: right;\">\n",
              "      <th></th>\n",
              "      <th>name</th>\n",
              "      <th>gp</th>\n",
              "      <th>min</th>\n",
              "      <th>pts</th>\n",
              "      <th>fgm</th>\n",
              "      <th>fga</th>\n",
              "      <th>fg</th>\n",
              "      <th>3p_made</th>\n",
              "      <th>3pa</th>\n",
              "      <th>3p</th>\n",
              "      <th>...</th>\n",
              "      <th>fta</th>\n",
              "      <th>ft</th>\n",
              "      <th>oreb</th>\n",
              "      <th>dreb</th>\n",
              "      <th>reb</th>\n",
              "      <th>ast</th>\n",
              "      <th>stl</th>\n",
              "      <th>blk</th>\n",
              "      <th>tov</th>\n",
              "      <th>target_5yrs</th>\n",
              "    </tr>\n",
              "  </thead>\n",
              "  <tbody>\n",
              "    <tr>\n",
              "      <th>0</th>\n",
              "      <td>James Young</td>\n",
              "      <td>31</td>\n",
              "      <td>10.7</td>\n",
              "      <td>3.4</td>\n",
              "      <td>1.2</td>\n",
              "      <td>3.3</td>\n",
              "      <td>35.3</td>\n",
              "      <td>0.5</td>\n",
              "      <td>2.1</td>\n",
              "      <td>25.8</td>\n",
              "      <td>...</td>\n",
              "      <td>0.9</td>\n",
              "      <td>55.2</td>\n",
              "      <td>0.3</td>\n",
              "      <td>1.1</td>\n",
              "      <td>1.4</td>\n",
              "      <td>0.4</td>\n",
              "      <td>0.3</td>\n",
              "      <td>0.1</td>\n",
              "      <td>0.2</td>\n",
              "      <td>0</td>\n",
              "    </tr>\n",
              "    <tr>\n",
              "      <th>1</th>\n",
              "      <td>Michael Anderson</td>\n",
              "      <td>65</td>\n",
              "      <td>18.5</td>\n",
              "      <td>7.4</td>\n",
              "      <td>2.9</td>\n",
              "      <td>5.8</td>\n",
              "      <td>50.1</td>\n",
              "      <td>0.0</td>\n",
              "      <td>0.1</td>\n",
              "      <td>0.0</td>\n",
              "      <td>...</td>\n",
              "      <td>2.7</td>\n",
              "      <td>57.1</td>\n",
              "      <td>1.8</td>\n",
              "      <td>2.7</td>\n",
              "      <td>4.5</td>\n",
              "      <td>1.0</td>\n",
              "      <td>1.0</td>\n",
              "      <td>0.3</td>\n",
              "      <td>1.2</td>\n",
              "      <td>0</td>\n",
              "    </tr>\n",
              "    <tr>\n",
              "      <th>2</th>\n",
              "      <td>Kobe Bryant</td>\n",
              "      <td>71</td>\n",
              "      <td>15.5</td>\n",
              "      <td>7.6</td>\n",
              "      <td>2.5</td>\n",
              "      <td>5.9</td>\n",
              "      <td>41.7</td>\n",
              "      <td>0.7</td>\n",
              "      <td>1.9</td>\n",
              "      <td>37.5</td>\n",
              "      <td>...</td>\n",
              "      <td>2.3</td>\n",
              "      <td>81.9</td>\n",
              "      <td>0.7</td>\n",
              "      <td>1.2</td>\n",
              "      <td>1.9</td>\n",
              "      <td>1.3</td>\n",
              "      <td>0.7</td>\n",
              "      <td>0.3</td>\n",
              "      <td>1.6</td>\n",
              "      <td>1</td>\n",
              "    </tr>\n",
              "    <tr>\n",
              "      <th>3</th>\n",
              "      <td>Darrin Hancock</td>\n",
              "      <td>46</td>\n",
              "      <td>9.2</td>\n",
              "      <td>3.3</td>\n",
              "      <td>1.5</td>\n",
              "      <td>2.6</td>\n",
              "      <td>56.2</td>\n",
              "      <td>0.0</td>\n",
              "      <td>0.1</td>\n",
              "      <td>33.3</td>\n",
              "      <td>...</td>\n",
              "      <td>0.8</td>\n",
              "      <td>41.0</td>\n",
              "      <td>0.3</td>\n",
              "      <td>0.8</td>\n",
              "      <td>1.2</td>\n",
              "      <td>0.7</td>\n",
              "      <td>0.4</td>\n",
              "      <td>0.1</td>\n",
              "      <td>0.7</td>\n",
              "      <td>0</td>\n",
              "    </tr>\n",
              "    <tr>\n",
              "      <th>4</th>\n",
              "      <td>Brent Price</td>\n",
              "      <td>68</td>\n",
              "      <td>12.6</td>\n",
              "      <td>3.9</td>\n",
              "      <td>1.5</td>\n",
              "      <td>4.1</td>\n",
              "      <td>35.8</td>\n",
              "      <td>0.1</td>\n",
              "      <td>0.7</td>\n",
              "      <td>16.7</td>\n",
              "      <td>...</td>\n",
              "      <td>1.0</td>\n",
              "      <td>79.4</td>\n",
              "      <td>0.4</td>\n",
              "      <td>1.1</td>\n",
              "      <td>1.5</td>\n",
              "      <td>2.3</td>\n",
              "      <td>0.8</td>\n",
              "      <td>0.0</td>\n",
              "      <td>1.3</td>\n",
              "      <td>1</td>\n",
              "    </tr>\n",
              "    <tr>\n",
              "      <th>...</th>\n",
              "      <td>...</td>\n",
              "      <td>...</td>\n",
              "      <td>...</td>\n",
              "      <td>...</td>\n",
              "      <td>...</td>\n",
              "      <td>...</td>\n",
              "      <td>...</td>\n",
              "      <td>...</td>\n",
              "      <td>...</td>\n",
              "      <td>...</td>\n",
              "      <td>...</td>\n",
              "      <td>...</td>\n",
              "      <td>...</td>\n",
              "      <td>...</td>\n",
              "      <td>...</td>\n",
              "      <td>...</td>\n",
              "      <td>...</td>\n",
              "      <td>...</td>\n",
              "      <td>...</td>\n",
              "      <td>...</td>\n",
              "      <td>...</td>\n",
              "    </tr>\n",
              "    <tr>\n",
              "      <th>933</th>\n",
              "      <td>Terry Dehere</td>\n",
              "      <td>64</td>\n",
              "      <td>11.9</td>\n",
              "      <td>5.3</td>\n",
              "      <td>2.0</td>\n",
              "      <td>5.3</td>\n",
              "      <td>37.7</td>\n",
              "      <td>0.4</td>\n",
              "      <td>0.9</td>\n",
              "      <td>40.4</td>\n",
              "      <td>...</td>\n",
              "      <td>1.3</td>\n",
              "      <td>75.3</td>\n",
              "      <td>0.4</td>\n",
              "      <td>0.7</td>\n",
              "      <td>1.1</td>\n",
              "      <td>1.2</td>\n",
              "      <td>0.4</td>\n",
              "      <td>0.1</td>\n",
              "      <td>0.9</td>\n",
              "      <td>1</td>\n",
              "    </tr>\n",
              "    <tr>\n",
              "      <th>934</th>\n",
              "      <td>Jordan Hamilton</td>\n",
              "      <td>26</td>\n",
              "      <td>9.9</td>\n",
              "      <td>4.4</td>\n",
              "      <td>1.8</td>\n",
              "      <td>4.3</td>\n",
              "      <td>43.2</td>\n",
              "      <td>0.7</td>\n",
              "      <td>1.8</td>\n",
              "      <td>36.2</td>\n",
              "      <td>...</td>\n",
              "      <td>0.2</td>\n",
              "      <td>40.0</td>\n",
              "      <td>0.4</td>\n",
              "      <td>2.0</td>\n",
              "      <td>2.4</td>\n",
              "      <td>0.8</td>\n",
              "      <td>0.1</td>\n",
              "      <td>0.1</td>\n",
              "      <td>0.6</td>\n",
              "      <td>1</td>\n",
              "    </tr>\n",
              "    <tr>\n",
              "      <th>935</th>\n",
              "      <td>David Lee</td>\n",
              "      <td>67</td>\n",
              "      <td>16.9</td>\n",
              "      <td>5.1</td>\n",
              "      <td>2.0</td>\n",
              "      <td>3.4</td>\n",
              "      <td>59.6</td>\n",
              "      <td>0.0</td>\n",
              "      <td>0.0</td>\n",
              "      <td>0.0</td>\n",
              "      <td>...</td>\n",
              "      <td>1.8</td>\n",
              "      <td>57.7</td>\n",
              "      <td>1.6</td>\n",
              "      <td>2.9</td>\n",
              "      <td>4.5</td>\n",
              "      <td>0.6</td>\n",
              "      <td>0.5</td>\n",
              "      <td>0.3</td>\n",
              "      <td>0.8</td>\n",
              "      <td>0</td>\n",
              "    </tr>\n",
              "    <tr>\n",
              "      <th>936</th>\n",
              "      <td>Travis Mays</td>\n",
              "      <td>64</td>\n",
              "      <td>33.5</td>\n",
              "      <td>14.3</td>\n",
              "      <td>4.6</td>\n",
              "      <td>11.3</td>\n",
              "      <td>40.6</td>\n",
              "      <td>1.1</td>\n",
              "      <td>3.1</td>\n",
              "      <td>36.5</td>\n",
              "      <td>...</td>\n",
              "      <td>5.2</td>\n",
              "      <td>77.0</td>\n",
              "      <td>0.8</td>\n",
              "      <td>1.9</td>\n",
              "      <td>2.8</td>\n",
              "      <td>4.0</td>\n",
              "      <td>1.3</td>\n",
              "      <td>0.2</td>\n",
              "      <td>2.5</td>\n",
              "      <td>0</td>\n",
              "    </tr>\n",
              "    <tr>\n",
              "      <th>937</th>\n",
              "      <td>Ron Harper</td>\n",
              "      <td>82</td>\n",
              "      <td>37.4</td>\n",
              "      <td>22.9</td>\n",
              "      <td>9.0</td>\n",
              "      <td>19.7</td>\n",
              "      <td>45.5</td>\n",
              "      <td>0.2</td>\n",
              "      <td>1.1</td>\n",
              "      <td>21.3</td>\n",
              "      <td>...</td>\n",
              "      <td>6.9</td>\n",
              "      <td>68.4</td>\n",
              "      <td>2.1</td>\n",
              "      <td>2.7</td>\n",
              "      <td>4.8</td>\n",
              "      <td>4.8</td>\n",
              "      <td>2.5</td>\n",
              "      <td>1.0</td>\n",
              "      <td>4.2</td>\n",
              "      <td>1</td>\n",
              "    </tr>\n",
              "  </tbody>\n",
              "</table>\n",
              "<p>938 rows × 21 columns</p>\n",
              "</div>\n",
              "      <button class=\"colab-df-convert\" onclick=\"convertToInteractive('df-1910773b-a639-4667-bbf3-3f40e78f5de4')\"\n",
              "              title=\"Convert this dataframe to an interactive table.\"\n",
              "              style=\"display:none;\">\n",
              "        \n",
              "  <svg xmlns=\"http://www.w3.org/2000/svg\" height=\"24px\"viewBox=\"0 0 24 24\"\n",
              "       width=\"24px\">\n",
              "    <path d=\"M0 0h24v24H0V0z\" fill=\"none\"/>\n",
              "    <path d=\"M18.56 5.44l.94 2.06.94-2.06 2.06-.94-2.06-.94-.94-2.06-.94 2.06-2.06.94zm-11 1L8.5 8.5l.94-2.06 2.06-.94-2.06-.94L8.5 2.5l-.94 2.06-2.06.94zm10 10l.94 2.06.94-2.06 2.06-.94-2.06-.94-.94-2.06-.94 2.06-2.06.94z\"/><path d=\"M17.41 7.96l-1.37-1.37c-.4-.4-.92-.59-1.43-.59-.52 0-1.04.2-1.43.59L10.3 9.45l-7.72 7.72c-.78.78-.78 2.05 0 2.83L4 21.41c.39.39.9.59 1.41.59.51 0 1.02-.2 1.41-.59l7.78-7.78 2.81-2.81c.8-.78.8-2.07 0-2.86zM5.41 20L4 18.59l7.72-7.72 1.47 1.35L5.41 20z\"/>\n",
              "  </svg>\n",
              "      </button>\n",
              "      \n",
              "  <style>\n",
              "    .colab-df-container {\n",
              "      display:flex;\n",
              "      flex-wrap:wrap;\n",
              "      gap: 12px;\n",
              "    }\n",
              "\n",
              "    .colab-df-convert {\n",
              "      background-color: #E8F0FE;\n",
              "      border: none;\n",
              "      border-radius: 50%;\n",
              "      cursor: pointer;\n",
              "      display: none;\n",
              "      fill: #1967D2;\n",
              "      height: 32px;\n",
              "      padding: 0 0 0 0;\n",
              "      width: 32px;\n",
              "    }\n",
              "\n",
              "    .colab-df-convert:hover {\n",
              "      background-color: #E2EBFA;\n",
              "      box-shadow: 0px 1px 2px rgba(60, 64, 67, 0.3), 0px 1px 3px 1px rgba(60, 64, 67, 0.15);\n",
              "      fill: #174EA6;\n",
              "    }\n",
              "\n",
              "    [theme=dark] .colab-df-convert {\n",
              "      background-color: #3B4455;\n",
              "      fill: #D2E3FC;\n",
              "    }\n",
              "\n",
              "    [theme=dark] .colab-df-convert:hover {\n",
              "      background-color: #434B5C;\n",
              "      box-shadow: 0px 1px 3px 1px rgba(0, 0, 0, 0.15);\n",
              "      filter: drop-shadow(0px 1px 2px rgba(0, 0, 0, 0.3));\n",
              "      fill: #FFFFFF;\n",
              "    }\n",
              "  </style>\n",
              "\n",
              "      <script>\n",
              "        const buttonEl =\n",
              "          document.querySelector('#df-1910773b-a639-4667-bbf3-3f40e78f5de4 button.colab-df-convert');\n",
              "        buttonEl.style.display =\n",
              "          google.colab.kernel.accessAllowed ? 'block' : 'none';\n",
              "\n",
              "        async function convertToInteractive(key) {\n",
              "          const element = document.querySelector('#df-1910773b-a639-4667-bbf3-3f40e78f5de4');\n",
              "          const dataTable =\n",
              "            await google.colab.kernel.invokeFunction('convertToInteractive',\n",
              "                                                     [key], {});\n",
              "          if (!dataTable) return;\n",
              "\n",
              "          const docLinkHtml = 'Like what you see? Visit the ' +\n",
              "            '<a target=\"_blank\" href=https://colab.research.google.com/notebooks/data_table.ipynb>data table notebook</a>'\n",
              "            + ' to learn more about interactive tables.';\n",
              "          element.innerHTML = '';\n",
              "          dataTable['output_type'] = 'display_data';\n",
              "          await google.colab.output.renderOutput(dataTable, element);\n",
              "          const docLink = document.createElement('div');\n",
              "          docLink.innerHTML = docLinkHtml;\n",
              "          element.appendChild(docLink);\n",
              "        }\n",
              "      </script>\n",
              "    </div>\n",
              "  </div>\n",
              "  "
            ]
          },
          "metadata": {},
          "execution_count": 17
        }
      ],
      "source": [
        "train = pd.read_csv('nba_players_train.csv')\n",
        "test = pd.read_csv('nba_players_test.csv')\n",
        "\n",
        "train"
      ]
    },
    {
      "cell_type": "markdown",
      "source": [
        "**preprocessing**"
      ],
      "metadata": {
        "id": "ZHuK0RFo87Ng"
      },
      "id": "ZHuK0RFo87Ng"
    },
    {
      "cell_type": "code",
      "execution_count": 18,
      "id": "f7c23000",
      "metadata": {
        "id": "f7c23000"
      },
      "outputs": [],
      "source": [
        "# do some preprocessing!\n",
        "from sklearn.preprocessing import LabelEncoder\n",
        "\n",
        "label_encoder = LabelEncoder()\n",
        "\n",
        "train['name'] = label_encoder.fit_transform(train['name'])\n",
        "test['name'] = label_encoder.fit_transform(test['name'])"
      ]
    },
    {
      "cell_type": "code",
      "source": [
        "train.isnull().sum()"
      ],
      "metadata": {
        "colab": {
          "base_uri": "https://localhost:8080/"
        },
        "id": "aUwDiPZYqSzs",
        "outputId": "d1d0df79-df93-446d-82a8-a3d824df7626"
      },
      "id": "aUwDiPZYqSzs",
      "execution_count": 5,
      "outputs": [
        {
          "output_type": "execute_result",
          "data": {
            "text/plain": [
              "name           0\n",
              "gp             0\n",
              "min            0\n",
              "pts            0\n",
              "fgm            0\n",
              "fga            0\n",
              "fg             0\n",
              "3p_made        0\n",
              "3pa            0\n",
              "3p             0\n",
              "ftm            0\n",
              "fta            0\n",
              "ft             0\n",
              "oreb           0\n",
              "dreb           0\n",
              "reb            0\n",
              "ast            0\n",
              "stl            0\n",
              "blk            0\n",
              "tov            0\n",
              "target_5yrs    0\n",
              "dtype: int64"
            ]
          },
          "metadata": {},
          "execution_count": 5
        }
      ]
    },
    {
      "cell_type": "code",
      "source": [
        "test.isnull().sum()"
      ],
      "metadata": {
        "colab": {
          "base_uri": "https://localhost:8080/"
        },
        "id": "4pxxsw0tqS_T",
        "outputId": "a20b3c0e-cc3b-4909-93a7-eeaf12ea9285"
      },
      "id": "4pxxsw0tqS_T",
      "execution_count": 6,
      "outputs": [
        {
          "output_type": "execute_result",
          "data": {
            "text/plain": [
              "name       0\n",
              "gp         0\n",
              "min        0\n",
              "pts        0\n",
              "fgm        0\n",
              "fga        0\n",
              "fg         0\n",
              "3p_made    0\n",
              "3pa        0\n",
              "3p         0\n",
              "ftm        0\n",
              "fta        0\n",
              "ft         0\n",
              "oreb       0\n",
              "dreb       0\n",
              "reb        0\n",
              "ast        0\n",
              "stl        0\n",
              "blk        0\n",
              "tov        0\n",
              "dtype: int64"
            ]
          },
          "metadata": {},
          "execution_count": 6
        }
      ]
    },
    {
      "cell_type": "code",
      "source": [
        "train.columns"
      ],
      "metadata": {
        "colab": {
          "base_uri": "https://localhost:8080/"
        },
        "id": "OdHcPVj78NPu",
        "outputId": "ea5dc865-9119-449b-a357-dc010eaf8bf5"
      },
      "id": "OdHcPVj78NPu",
      "execution_count": 7,
      "outputs": [
        {
          "output_type": "execute_result",
          "data": {
            "text/plain": [
              "Index(['name', 'gp', 'min', 'pts', 'fgm', 'fga', 'fg', '3p_made', '3pa', '3p',\n",
              "       'ftm', 'fta', 'ft', 'oreb', 'dreb', 'reb', 'ast', 'stl', 'blk', 'tov',\n",
              "       'target_5yrs'],\n",
              "      dtype='object')"
            ]
          },
          "metadata": {},
          "execution_count": 7
        }
      ]
    },
    {
      "cell_type": "code",
      "source": [
        "from sklearn.preprocessing import StandardScaler\n",
        "\n",
        "scaler = StandardScaler()\n",
        "for i in test.columns:\n",
        "  train[[i]] = scaler.fit_transform(train[[i]])\n",
        "  test[[i]] = scaler.fit_transform(test[[i]])\n"
      ],
      "metadata": {
        "id": "ld-Pyc0Hqg66"
      },
      "id": "ld-Pyc0Hqg66",
      "execution_count": 19,
      "outputs": []
    },
    {
      "cell_type": "markdown",
      "source": [
        "**model**"
      ],
      "metadata": {
        "id": "Tjywx2b29O7H"
      },
      "id": "Tjywx2b29O7H"
    },
    {
      "cell_type": "code",
      "source": [
        "y=  train[['target_5yrs']]"
      ],
      "metadata": {
        "id": "3rHVrb4IsqK1"
      },
      "id": "3rHVrb4IsqK1",
      "execution_count": 20,
      "outputs": []
    },
    {
      "cell_type": "code",
      "source": [
        "x = train.copy()\n",
        "x.drop(columns= ['target_5yrs'], inplace= True)"
      ],
      "metadata": {
        "id": "DPFu1SPsssOl"
      },
      "id": "DPFu1SPsssOl",
      "execution_count": 21,
      "outputs": []
    },
    {
      "cell_type": "code",
      "source": [
        "from sklearn.model_selection import train_test_split\n",
        "\n",
        "X_train, X_test, y_train, y_test = train_test_split(x, y, test_size=0.2, shuffle=True)\n",
        "X_train, X_val, y_train, y_val = train_test_split(X_train, y_train, test_size=0.25, shuffle=True)"
      ],
      "metadata": {
        "id": "rSj-qryc9VWG"
      },
      "id": "rSj-qryc9VWG",
      "execution_count": 22,
      "outputs": []
    },
    {
      "cell_type": "code",
      "execution_count": 23,
      "id": "03d20a30",
      "metadata": {
        "colab": {
          "base_uri": "https://localhost:8080/"
        },
        "id": "03d20a30",
        "outputId": "667c475b-def1-4a6c-a211-70b32db4ede2"
      },
      "outputs": [
        {
          "output_type": "stream",
          "name": "stderr",
          "text": [
            "/usr/local/lib/python3.8/dist-packages/sklearn/utils/validation.py:993: DataConversionWarning: A column-vector y was passed when a 1d array was expected. Please change the shape of y to (n_samples, ), for example using ravel().\n",
            "  y = column_or_1d(y, warn=True)\n"
          ]
        }
      ],
      "source": [
        "# modeling\n",
        "from sklearn.model_selection import train_test_split\n",
        "from sklearn.linear_model import LogisticRegression\n",
        "\n",
        "model = LogisticRegression()\n",
        "model.fit(X_train, y_train)\n",
        "y_pred = model.predict(X_val)"
      ]
    },
    {
      "cell_type": "code",
      "execution_count": 24,
      "id": "f3f005b7",
      "metadata": {
        "colab": {
          "base_uri": "https://localhost:8080/"
        },
        "id": "f3f005b7",
        "outputId": "8189b08a-6dde-450e-f72f-a94a25615cd0"
      },
      "outputs": [
        {
          "output_type": "execute_result",
          "data": {
            "text/plain": [
              "0.6905979783217635"
            ]
          },
          "metadata": {},
          "execution_count": 24
        }
      ],
      "source": [
        "# evaluate model\n",
        "from sklearn.metrics import roc_auc_score\n",
        "roc_auc_score(y_val, y_pred)"
      ]
    },
    {
      "cell_type": "code",
      "source": [
        "y_pred = model.predict(X_test)\n",
        "roc_auc_score(y_test, y_pred)"
      ],
      "metadata": {
        "id": "bXgnRlsOylvx",
        "colab": {
          "base_uri": "https://localhost:8080/"
        },
        "outputId": "543dde30-e7ce-423a-afd6-7e2e3b6d45ef"
      },
      "id": "bXgnRlsOylvx",
      "execution_count": 25,
      "outputs": [
        {
          "output_type": "execute_result",
          "data": {
            "text/plain": [
              "0.6356085229324665"
            ]
          },
          "metadata": {},
          "execution_count": 25
        }
      ]
    }
  ],
  "metadata": {
    "kernelspec": {
      "display_name": "Python 3 (ipykernel)",
      "language": "python",
      "name": "python3"
    },
    "language_info": {
      "codemirror_mode": {
        "name": "ipython",
        "version": 3
      },
      "file_extension": ".py",
      "mimetype": "text/x-python",
      "name": "python",
      "nbconvert_exporter": "python",
      "pygments_lexer": "ipython3",
      "version": "3.8.6"
    },
    "colab": {
      "provenance": []
    }
  },
  "nbformat": 4,
  "nbformat_minor": 5
}